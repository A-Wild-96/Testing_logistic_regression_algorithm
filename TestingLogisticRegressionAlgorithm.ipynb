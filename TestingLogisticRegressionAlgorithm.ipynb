{
 "cells": [
  {
   "cell_type": "markdown",
   "id": "b5587d27",
   "metadata": {},
   "source": [
    "# Custom logistic regression algorithm - initial diagnosis of chronic kidney disease"
   ]
  },
  {
   "cell_type": "markdown",
   "id": "9cb94412",
   "metadata": {},
   "source": [
    "# Abstract\n",
    "Using custom linear regression algorithm we take a dataset containing a list of patients with different symptoms and chronic kidney disease (CKD) and train our model to perform an initial diagnosis of CKD. We split our data in to training, validation and testing datasets. After training the model on the training data, we tune the parameters of our algorithm using our validation dataset. We detect 100% of positive CKD cases in our test dataset whilst identifying about 88% of negative cases. This was achieved by pre-diagonsing people who had a 10% or greater change of having CKD. This was chosen because an initial diagnosis is a precursor to a more rigerous diagnosis procedure."
   ]
  },
  {
   "cell_type": "markdown",
   "id": "bcb3db04",
   "metadata": {},
   "source": [
    "# Contents\n",
    "<ul>\n",
    "    <li>Importing dataset</li>\n",
    "    <li>Determining learning rate - convergence with linear and polynomial features</li>\n",
    "    <li>Determining degree of features</li>\n",
    "    <li>Reducing overfitting with regularisation</li>\n",
    "    <li>Results</li>\n",
    "    <li>Conclusion</li>\n",
    "</ul>"
   ]
  },
  {
   "cell_type": "markdown",
   "id": "9ea016d8",
   "metadata": {},
   "source": [
    "# Importing dataset"
   ]
  },
  {
   "cell_type": "code",
   "execution_count": 1,
   "id": "8fed6f9d",
   "metadata": {},
   "outputs": [],
   "source": [
    "import pandas as pd\n",
    "import seaborn as sns\n",
    "import matplotlib.pyplot as plt\n",
    "import numpy as np\n",
    "%matplotlib inline"
   ]
  },
  {
   "cell_type": "markdown",
   "id": "56d4f6b5",
   "metadata": {},
   "source": [
    "First we import my custom logistic regression functions as a module. Writing and testing of these functions can be found in previous notebook."
   ]
  },
  {
   "cell_type": "code",
   "execution_count": 2,
   "id": "3688f83d",
   "metadata": {},
   "outputs": [],
   "source": [
    "import mylogregression as mlr"
   ]
  },
  {
   "cell_type": "markdown",
   "id": "6ecd229f",
   "metadata": {},
   "source": [
    "Import dataset as a DataFrame from the pandas library. Dataset from kaggle.com (https://www.kaggle.com/datasets/mansoordaku/ckdisease). Dataset cleaned in previous notebook."
   ]
  },
  {
   "cell_type": "code",
   "execution_count": 3,
   "id": "0eca1516",
   "metadata": {},
   "outputs": [],
   "source": [
    "df = pd.read_csv('CKD_cleaned.csv')"
   ]
  },
  {
   "cell_type": "code",
   "execution_count": 4,
   "id": "1bb61bb5",
   "metadata": {},
   "outputs": [
    {
     "data": {
      "text/html": [
       "<div>\n",
       "<style scoped>\n",
       "    .dataframe tbody tr th:only-of-type {\n",
       "        vertical-align: middle;\n",
       "    }\n",
       "\n",
       "    .dataframe tbody tr th {\n",
       "        vertical-align: top;\n",
       "    }\n",
       "\n",
       "    .dataframe thead th {\n",
       "        text-align: right;\n",
       "    }\n",
       "</style>\n",
       "<table border=\"1\" class=\"dataframe\">\n",
       "  <thead>\n",
       "    <tr style=\"text-align: right;\">\n",
       "      <th></th>\n",
       "      <th>age</th>\n",
       "      <th>bp</th>\n",
       "      <th>sg</th>\n",
       "      <th>al</th>\n",
       "      <th>su</th>\n",
       "      <th>pcc_present</th>\n",
       "      <th>ba_present</th>\n",
       "      <th>bgr</th>\n",
       "      <th>bu</th>\n",
       "      <th>sc</th>\n",
       "      <th>...</th>\n",
       "      <th>pcv</th>\n",
       "      <th>wc</th>\n",
       "      <th>rc</th>\n",
       "      <th>htn_yes</th>\n",
       "      <th>dm_yes</th>\n",
       "      <th>cad_yes</th>\n",
       "      <th>appet_poor</th>\n",
       "      <th>pe_yes</th>\n",
       "      <th>ane_yes</th>\n",
       "      <th>classification_ckd</th>\n",
       "    </tr>\n",
       "  </thead>\n",
       "  <tbody>\n",
       "    <tr>\n",
       "      <th>0</th>\n",
       "      <td>48.0</td>\n",
       "      <td>80.0</td>\n",
       "      <td>1.02</td>\n",
       "      <td>1.0</td>\n",
       "      <td>0.0</td>\n",
       "      <td>0.0</td>\n",
       "      <td>0.0</td>\n",
       "      <td>121.000000</td>\n",
       "      <td>36.0</td>\n",
       "      <td>1.2</td>\n",
       "      <td>...</td>\n",
       "      <td>44.0</td>\n",
       "      <td>7800.0</td>\n",
       "      <td>5.200000</td>\n",
       "      <td>1.0</td>\n",
       "      <td>1.0</td>\n",
       "      <td>0.0</td>\n",
       "      <td>0.0</td>\n",
       "      <td>0.0</td>\n",
       "      <td>0.0</td>\n",
       "      <td>1</td>\n",
       "    </tr>\n",
       "    <tr>\n",
       "      <th>1</th>\n",
       "      <td>7.0</td>\n",
       "      <td>50.0</td>\n",
       "      <td>1.02</td>\n",
       "      <td>4.0</td>\n",
       "      <td>0.0</td>\n",
       "      <td>0.0</td>\n",
       "      <td>0.0</td>\n",
       "      <td>148.134146</td>\n",
       "      <td>18.0</td>\n",
       "      <td>0.8</td>\n",
       "      <td>...</td>\n",
       "      <td>38.0</td>\n",
       "      <td>6000.0</td>\n",
       "      <td>4.679268</td>\n",
       "      <td>0.0</td>\n",
       "      <td>0.0</td>\n",
       "      <td>0.0</td>\n",
       "      <td>0.0</td>\n",
       "      <td>0.0</td>\n",
       "      <td>0.0</td>\n",
       "      <td>1</td>\n",
       "    </tr>\n",
       "    <tr>\n",
       "      <th>2</th>\n",
       "      <td>62.0</td>\n",
       "      <td>80.0</td>\n",
       "      <td>1.01</td>\n",
       "      <td>2.0</td>\n",
       "      <td>3.0</td>\n",
       "      <td>0.0</td>\n",
       "      <td>0.0</td>\n",
       "      <td>423.000000</td>\n",
       "      <td>53.0</td>\n",
       "      <td>1.8</td>\n",
       "      <td>...</td>\n",
       "      <td>31.0</td>\n",
       "      <td>7500.0</td>\n",
       "      <td>4.679268</td>\n",
       "      <td>0.0</td>\n",
       "      <td>1.0</td>\n",
       "      <td>0.0</td>\n",
       "      <td>1.0</td>\n",
       "      <td>0.0</td>\n",
       "      <td>1.0</td>\n",
       "      <td>1</td>\n",
       "    </tr>\n",
       "  </tbody>\n",
       "</table>\n",
       "<p>3 rows × 23 columns</p>\n",
       "</div>"
      ],
      "text/plain": [
       "    age    bp    sg   al   su  pcc_present  ba_present         bgr    bu   sc  \\\n",
       "0  48.0  80.0  1.02  1.0  0.0          0.0         0.0  121.000000  36.0  1.2   \n",
       "1   7.0  50.0  1.02  4.0  0.0          0.0         0.0  148.134146  18.0  0.8   \n",
       "2  62.0  80.0  1.01  2.0  3.0          0.0         0.0  423.000000  53.0  1.8   \n",
       "\n",
       "   ...   pcv      wc        rc  htn_yes  dm_yes  cad_yes  appet_poor  pe_yes  \\\n",
       "0  ...  44.0  7800.0  5.200000      1.0     1.0      0.0         0.0     0.0   \n",
       "1  ...  38.0  6000.0  4.679268      0.0     0.0      0.0         0.0     0.0   \n",
       "2  ...  31.0  7500.0  4.679268      0.0     1.0      0.0         1.0     0.0   \n",
       "\n",
       "   ane_yes  classification_ckd  \n",
       "0      0.0                   1  \n",
       "1      0.0                   1  \n",
       "2      1.0                   1  \n",
       "\n",
       "[3 rows x 23 columns]"
      ]
     },
     "execution_count": 4,
     "metadata": {},
     "output_type": "execute_result"
    }
   ],
   "source": [
    "df.head(3)"
   ]
  },
  {
   "cell_type": "markdown",
   "id": "354e3088",
   "metadata": {},
   "source": [
    "Sort data in to features and target features."
   ]
  },
  {
   "cell_type": "code",
   "execution_count": 5,
   "id": "bb3ce7b0",
   "metadata": {},
   "outputs": [],
   "source": [
    "X = df.drop(labels=\"classification_ckd\",axis=1)\n",
    "y = df[\"classification_ckd\"]"
   ]
  },
  {
   "cell_type": "markdown",
   "id": "c95528c1",
   "metadata": {},
   "source": [
    "Apply scaling to features."
   ]
  },
  {
   "cell_type": "code",
   "execution_count": 6,
   "id": "885ee840",
   "metadata": {},
   "outputs": [
    {
     "data": {
      "text/html": [
       "<div>\n",
       "<style scoped>\n",
       "    .dataframe tbody tr th:only-of-type {\n",
       "        vertical-align: middle;\n",
       "    }\n",
       "\n",
       "    .dataframe tbody tr th {\n",
       "        vertical-align: top;\n",
       "    }\n",
       "\n",
       "    .dataframe thead th {\n",
       "        text-align: right;\n",
       "    }\n",
       "</style>\n",
       "<table border=\"1\" class=\"dataframe\">\n",
       "  <thead>\n",
       "    <tr style=\"text-align: right;\">\n",
       "      <th></th>\n",
       "      <th>age</th>\n",
       "      <th>bp</th>\n",
       "      <th>sg</th>\n",
       "      <th>al</th>\n",
       "      <th>su</th>\n",
       "      <th>pcc_present</th>\n",
       "      <th>ba_present</th>\n",
       "      <th>bgr</th>\n",
       "      <th>bu</th>\n",
       "      <th>sc</th>\n",
       "      <th>...</th>\n",
       "      <th>hemo</th>\n",
       "      <th>pcv</th>\n",
       "      <th>wc</th>\n",
       "      <th>rc</th>\n",
       "      <th>htn_yes</th>\n",
       "      <th>dm_yes</th>\n",
       "      <th>cad_yes</th>\n",
       "      <th>appet_poor</th>\n",
       "      <th>pe_yes</th>\n",
       "      <th>ane_yes</th>\n",
       "    </tr>\n",
       "  </thead>\n",
       "  <tbody>\n",
       "    <tr>\n",
       "      <th>0</th>\n",
       "      <td>0.505882</td>\n",
       "      <td>0.230769</td>\n",
       "      <td>0.75</td>\n",
       "      <td>0.2</td>\n",
       "      <td>0.0</td>\n",
       "      <td>0.0</td>\n",
       "      <td>0.0</td>\n",
       "      <td>0.211538</td>\n",
       "      <td>0.088575</td>\n",
       "      <td>0.010582</td>\n",
       "      <td>...</td>\n",
       "      <td>0.836735</td>\n",
       "      <td>0.777778</td>\n",
       "      <td>0.231405</td>\n",
       "      <td>0.525424</td>\n",
       "      <td>1.0</td>\n",
       "      <td>1.0</td>\n",
       "      <td>0.0</td>\n",
       "      <td>0.0</td>\n",
       "      <td>0.0</td>\n",
       "      <td>0.0</td>\n",
       "    </tr>\n",
       "    <tr>\n",
       "      <th>1</th>\n",
       "      <td>0.023529</td>\n",
       "      <td>0.000000</td>\n",
       "      <td>0.75</td>\n",
       "      <td>0.8</td>\n",
       "      <td>0.0</td>\n",
       "      <td>0.0</td>\n",
       "      <td>0.0</td>\n",
       "      <td>0.269517</td>\n",
       "      <td>0.042362</td>\n",
       "      <td>0.005291</td>\n",
       "      <td>...</td>\n",
       "      <td>0.557823</td>\n",
       "      <td>0.644444</td>\n",
       "      <td>0.157025</td>\n",
       "      <td>0.437164</td>\n",
       "      <td>0.0</td>\n",
       "      <td>0.0</td>\n",
       "      <td>0.0</td>\n",
       "      <td>0.0</td>\n",
       "      <td>0.0</td>\n",
       "      <td>0.0</td>\n",
       "    </tr>\n",
       "    <tr>\n",
       "      <th>2</th>\n",
       "      <td>0.670588</td>\n",
       "      <td>0.230769</td>\n",
       "      <td>0.25</td>\n",
       "      <td>0.4</td>\n",
       "      <td>0.6</td>\n",
       "      <td>0.0</td>\n",
       "      <td>0.0</td>\n",
       "      <td>0.856838</td>\n",
       "      <td>0.132221</td>\n",
       "      <td>0.018519</td>\n",
       "      <td>...</td>\n",
       "      <td>0.442177</td>\n",
       "      <td>0.488889</td>\n",
       "      <td>0.219008</td>\n",
       "      <td>0.437164</td>\n",
       "      <td>0.0</td>\n",
       "      <td>1.0</td>\n",
       "      <td>0.0</td>\n",
       "      <td>1.0</td>\n",
       "      <td>0.0</td>\n",
       "      <td>1.0</td>\n",
       "    </tr>\n",
       "  </tbody>\n",
       "</table>\n",
       "<p>3 rows × 22 columns</p>\n",
       "</div>"
      ],
      "text/plain": [
       "        age        bp    sg   al   su  pcc_present  ba_present       bgr  \\\n",
       "0  0.505882  0.230769  0.75  0.2  0.0          0.0         0.0  0.211538   \n",
       "1  0.023529  0.000000  0.75  0.8  0.0          0.0         0.0  0.269517   \n",
       "2  0.670588  0.230769  0.25  0.4  0.6          0.0         0.0  0.856838   \n",
       "\n",
       "         bu        sc  ...      hemo       pcv        wc        rc  htn_yes  \\\n",
       "0  0.088575  0.010582  ...  0.836735  0.777778  0.231405  0.525424      1.0   \n",
       "1  0.042362  0.005291  ...  0.557823  0.644444  0.157025  0.437164      0.0   \n",
       "2  0.132221  0.018519  ...  0.442177  0.488889  0.219008  0.437164      0.0   \n",
       "\n",
       "   dm_yes  cad_yes  appet_poor  pe_yes  ane_yes  \n",
       "0     1.0      0.0         0.0     0.0      0.0  \n",
       "1     0.0      0.0         0.0     0.0      0.0  \n",
       "2     1.0      0.0         1.0     0.0      1.0  \n",
       "\n",
       "[3 rows x 22 columns]"
      ]
     },
     "execution_count": 6,
     "metadata": {},
     "output_type": "execute_result"
    }
   ],
   "source": [
    "X = mlr.min_max_scale(X)\n",
    "X.head(3)"
   ]
  },
  {
   "cell_type": "markdown",
   "id": "a4d2cd9d",
   "metadata": {},
   "source": [
    "Split dataset in to testing, validation and testing datasets."
   ]
  },
  {
   "cell_type": "code",
   "execution_count": 7,
   "id": "c370c83e",
   "metadata": {},
   "outputs": [],
   "source": [
    "from sklearn.model_selection import train_test_split\n",
    "X_train, X_test_valid, y_train, y_test_valid = train_test_split(X, y, test_size=0.5)\n",
    "X_valid, X_test, y_valid, y_test = train_test_split(X_test_valid, y_test_valid, test_size=0.5)"
   ]
  },
  {
   "cell_type": "markdown",
   "id": "84bee2f5",
   "metadata": {},
   "source": [
    "# Determining learning rate - convergence with linear and polynomial features"
   ]
  },
  {
   "cell_type": "markdown",
   "id": "592d2f8d",
   "metadata": {},
   "source": [
    "Lets test convergence using linear features for several different leaning rates."
   ]
  },
  {
   "cell_type": "code",
   "execution_count": 8,
   "id": "4c1e184b",
   "metadata": {},
   "outputs": [
    {
     "name": "stdout",
     "output_type": "stream",
     "text": [
      "alpha=0.1 complete.\n",
      "alpha=0.3 complete.\n",
      "alpha=1 complete.\n",
      "alpha=3 complete.\n",
      "alpha=10 complete.\n"
     ]
    }
   ],
   "source": [
    "alpha_lst = [.1, .3, 1, 3, 10]\n",
    "iterations_history, cost_reg_history = [], []\n",
    "N_train = len(X_train.columns)\n",
    "W_init, b_init = np.ones(N_train).reshape(N_train,1), 0.\n",
    "lambda_ = 0.\n",
    "max_iter_val = 3000\n",
    "for alpha_val in alpha_lst:\n",
    "    cost_reg, dummy_W, dummy_b, iterations, final_cost = mlr.gradient_descent(X_train, y_train, W_init, b_init, lambda_, alpha=alpha_val, max_iter=max_iter_val, print_step=False, save_step=1)\n",
    "    cost_reg_history.append(cost_reg)\n",
    "    iterations_history = iterations\n",
    "    print(\"alpha={} complete.\".format(alpha_val))"
   ]
  },
  {
   "cell_type": "code",
   "execution_count": 9,
   "id": "a7894a05",
   "metadata": {},
   "outputs": [
    {
     "data": {
      "text/plain": [
       "<matplotlib.legend.Legend at 0x282115cf220>"
      ]
     },
     "execution_count": 9,
     "metadata": {},
     "output_type": "execute_result"
    },
    {
     "data": {
      "image/png": "[encoded data removed]",
      "text/plain": [
       "<Figure size 432x288 with 1 Axes>"
      ]
     },
     "metadata": {
      "needs_background": "light"
     },
     "output_type": "display_data"
    }
   ],
   "source": [
    "colour = ['b','g','r','c','m']\n",
    "for i in range(len(colour)):\n",
    "    plt.plot(iterations_history,cost_reg_history[i], color=colour[i], label='alpha = {}'.format(alpha_lst[i]))\n",
    "plt.ylabel(\"Cost_reg\")\n",
    "plt.xlabel(\"Iter\")\n",
    "plt.axis([0, 3000, 0, 1])\n",
    "plt.legend()"
   ]
  },
  {
   "cell_type": "markdown",
   "id": "b9cac4a0",
   "metadata": {},
   "source": [
    "We see that convergence is reliably reached by setting alpha = 3 with about 3000 iterations."
   ]
  },
  {
   "cell_type": "markdown",
   "id": "38893e8d",
   "metadata": {},
   "source": [
    "# Determining degree of features"
   ]
  },
  {
   "cell_type": "markdown",
   "id": "419beeeb",
   "metadata": {},
   "source": [
    "Lets check convergence when we add higher power polynomial features with our chosen learning rate and iterations."
   ]
  },
  {
   "cell_type": "code",
   "execution_count": 10,
   "id": "49037ddf",
   "metadata": {},
   "outputs": [
    {
     "name": "stdout",
     "output_type": "stream",
     "text": [
      "degree=1 complete.\n",
      "degree=2 complete.\n",
      "degree=3 complete.\n",
      "degree=4 complete.\n",
      "degree=5 complete.\n",
      "degree=10 complete.\n"
     ]
    }
   ],
   "source": [
    "degree_lst = [1,2,3,4,5,10]\n",
    "iterations_history, cost_reg_history = [], []\n",
    "b_init = 0.\n",
    "lambda_ = 0.\n",
    "alpha_val = 3\n",
    "max_iter_val = 3000\n",
    "for degree_val in degree_lst:\n",
    "    X_train_poly = mlr.encode_polynomial(X_train, degree=degree_val)\n",
    "    X_train_poly = mlr.min_max_scale(X_train_poly)\n",
    "    N_train_poly = len(X_train_poly.columns)\n",
    "    W_init = np.ones(N_train_poly).reshape(N_train_poly,1)\n",
    "    cost_reg, dummy_W, dummy_b, iterations, final_cost = mlr.gradient_descent(X_train_poly, y_train, W_init, b_init, lambda_, alpha=alpha_val, max_iter=max_iter_val, print_step=False, save_step=10)\n",
    "    cost_reg_history.append(cost_reg)\n",
    "    iterations_history = iterations\n",
    "    print(\"degree={} complete.\".format(degree_val))"
   ]
  },
  {
   "cell_type": "code",
   "execution_count": 11,
   "id": "b58bfb7f",
   "metadata": {},
   "outputs": [
    {
     "data": {
      "text/plain": [
       "<matplotlib.legend.Legend at 0x28211edcaf0>"
      ]
     },
     "execution_count": 11,
     "metadata": {},
     "output_type": "execute_result"
    },
    {
     "data": {
      "image/png": "[encoded data removed]",
      "text/plain": [
       "<Figure size 432x288 with 1 Axes>"
      ]
     },
     "metadata": {
      "needs_background": "light"
     },
     "output_type": "display_data"
    }
   ],
   "source": [
    "colour = ['k','b','m','r','y']\n",
    "for i in range(len(colour)):\n",
    "    plt.plot(iterations_history,cost_reg_history[i], color=colour[i], label='degree = {}'.format(degree_lst[i]))\n",
    "plt.ylabel(\"Cost_reg\")\n",
    "plt.xlabel(\"Iter\")\n",
    "plt.axis([0, 3000, 0.0, 1])\n",
    "plt.legend()"
   ]
  },
  {
   "cell_type": "markdown",
   "id": "a1238221",
   "metadata": {},
   "source": [
    "We reach convergence with our current learning rate and iterations."
   ]
  },
  {
   "cell_type": "markdown",
   "id": "fc082d9d",
   "metadata": {},
   "source": [
    "Lets see how our cost functions (training and validation) vary with different power polynomial features. "
   ]
  },
  {
   "cell_type": "code",
   "execution_count": 12,
   "id": "71a24b74",
   "metadata": {},
   "outputs": [
    {
     "name": "stdout",
     "output_type": "stream",
     "text": [
      "degree: 1 complete\n",
      "degree: 2 complete\n",
      "degree: 3 complete\n",
      "degree: 4 complete\n",
      "degree: 5 complete\n"
     ]
    }
   ],
   "source": [
    "degree_vec = np.arange(1,6)\n",
    "train_cost_vec, valid_cost_vec = [], []\n",
    "for degree_val in degree_vec:\n",
    "    dummy_y_hat, dummy_W, dummy_b, train_cost, valid_cost = mlr.logistic_regression(X_train, X_valid, y_train, y_valid, lambda_=0., degree=degree_val, alpha=3, max_iter=3000, print_step=False)\n",
    "    train_cost_vec.append(train_cost)\n",
    "    valid_cost_vec.append(valid_cost)\n",
    "    print(\"degree: {} complete\".format(degree_val))"
   ]
  },
  {
   "cell_type": "code",
   "execution_count": 13,
   "id": "178801e6",
   "metadata": {},
   "outputs": [
    {
     "data": {
      "text/plain": [
       "<matplotlib.legend.Legend at 0x28211f282b0>"
      ]
     },
     "execution_count": 13,
     "metadata": {},
     "output_type": "execute_result"
    },
    {
     "data": {
      "image/png": "[encoded data removed]",
      "text/plain": [
       "<Figure size 432x288 with 1 Axes>"
      ]
     },
     "metadata": {
      "needs_background": "light"
     },
     "output_type": "display_data"
    }
   ],
   "source": [
    "plt.plot(degree_vec,train_cost_vec, 'ks', label='train_cost')\n",
    "plt.plot(degree_vec,valid_cost_vec, 'gx', label='valid_cost')\n",
    "plt.ylabel(\"Cost\")\n",
    "plt.xlabel(\"Degree\")\n",
    "plt.axis([0, 6, 0, .1])\n",
    "plt.legend()"
   ]
  },
  {
   "cell_type": "markdown",
   "id": "06c35d72",
   "metadata": {},
   "source": [
    "We see that adding higher powers of our features we are able to fit the test dataset better, but this comes at the cost of overfitting, increasing the cost of our validation dataset. Lets see if we can remedy this by introducing regularisation."
   ]
  },
  {
   "cell_type": "markdown",
   "id": "0eb35dea",
   "metadata": {},
   "source": [
    "# Reducing overfitting with regularisation"
   ]
  },
  {
   "cell_type": "markdown",
   "id": "91ecc009",
   "metadata": {},
   "source": [
    "After testing a few values of the regularisation parameter, lambda, the best results came from a value of 0.1."
   ]
  },
  {
   "cell_type": "code",
   "execution_count": 14,
   "id": "0925547e",
   "metadata": {},
   "outputs": [
    {
     "name": "stdout",
     "output_type": "stream",
     "text": [
      "degree: 1 complete\n",
      "degree: 2 complete\n",
      "degree: 3 complete\n",
      "degree: 4 complete\n",
      "degree: 5 complete\n"
     ]
    }
   ],
   "source": [
    "degree_vec = np.arange(1,6)\n",
    "train_cost_vec, valid_cost_vec = [], []\n",
    "lambda_val = 0.1\n",
    "for degree_val in degree_vec:\n",
    "    dummy_y_hat, dummy_W, dummy_b, train_cost, valid_cost = mlr.logistic_regression(X_train, X_valid, y_train, y_valid, lambda_=lambda_val, degree=degree_val, alpha=3, max_iter=3000, print_step=False)\n",
    "    train_cost_vec.append(train_cost)\n",
    "    valid_cost_vec.append(valid_cost)\n",
    "    print(\"degree: {} complete\".format(degree_val))"
   ]
  },
  {
   "cell_type": "code",
   "execution_count": 15,
   "id": "12e7f7c8",
   "metadata": {},
   "outputs": [
    {
     "data": {
      "text/plain": [
       "<matplotlib.legend.Legend at 0x28211f03d90>"
      ]
     },
     "execution_count": 15,
     "metadata": {},
     "output_type": "execute_result"
    },
    {
     "data": {
      "image/png": "[encoded data removed]",
      "text/plain": [
       "<Figure size 432x288 with 1 Axes>"
      ]
     },
     "metadata": {
      "needs_background": "light"
     },
     "output_type": "display_data"
    }
   ],
   "source": [
    "plt.plot(degree_vec,train_cost_vec, 'ks', label='train_cost')\n",
    "plt.plot(degree_vec,valid_cost_vec, 'gx', label='valid_cost')\n",
    "plt.ylabel(\"Cost\")\n",
    "plt.xlabel(\"Degree\")\n",
    "plt.axis([0, 6, 0, .1])\n",
    "plt.legend()"
   ]
  },
  {
   "cell_type": "markdown",
   "id": "7d790135",
   "metadata": {},
   "source": [
    "We can see that introducing regularisation we can reduce the cost of our validation dataset. Now we are less overfit to our training dataset. Lets move on with the settings that most reduced our validation dataset cost: degree=1 and lambda_=0.1."
   ]
  },
  {
   "cell_type": "markdown",
   "id": "cb2c4fcf",
   "metadata": {},
   "source": [
    "In a medical diagnosis model we would rather be safe than sorry. Meaning we would rather over diagnose as opposed to under diagnose. This is because this algorithm would be a precursor to a more invasive procedure. For this reason, we may want to predict if someone has a 10% likelihood of having CKD (f_cutoff = 0.1) or a 1% chance (f_cutoff = 0.01). But of course, a model that diagnoses everyone is usefull. So using our validation data we will try to diagnose as many people as possible whilst trying to limiting false positives."
   ]
  },
  {
   "cell_type": "code",
   "execution_count": 16,
   "id": "2a848042",
   "metadata": {},
   "outputs": [
    {
     "name": "stdout",
     "output_type": "stream",
     "text": [
      "f_cutoff: 0.001 complete\n",
      "f_cutoff: 0.003 complete\n",
      "f_cutoff: 0.01 complete\n",
      "f_cutoff: 0.03 complete\n",
      "f_cutoff: 0.1 complete\n",
      "f_cutoff: 0.5 complete\n",
      "f_cutoff: 0.9 complete\n",
      "f_cutoff: 0.97 complete\n",
      "f_cutoff: 0.99 complete\n",
      "f_cutoff: 0.997 complete\n",
      "f_cutoff: 0.999 complete\n"
     ]
    }
   ],
   "source": [
    "#degree_vec = [1,2,3]\n",
    "f_cutoff_vec = [0.001,0.003,0.01,0.03,0.1,0.5,0.9,0.97,0.99,0.997,0.999]\n",
    "true_pos_det = []\n",
    "true_neg_det = []\n",
    "for f_cutoff_val in f_cutoff_vec:\n",
    "    y_hat, dummy_W, dummy_b, train_cost, valid_cost = mlr.logistic_regression(X_train, X_valid, y_train, y_valid, lambda_=0.1, degree=1, alpha=3, f_cutoff = f_cutoff_val, max_iter=3000, print_step=False)\n",
    "    true_pos = 100*sum(y_hat[y_valid==1] == y_valid[y_valid==1])/len(y_valid[y_valid==1])\n",
    "    true_neg = 100*sum(y_hat[y_valid==0] == y_valid[y_valid==0])/len(y_valid[y_valid==0])\n",
    "    true_pos_det.append(true_pos)\n",
    "    true_neg_det.append(true_neg)\n",
    "    print(\"f_cutoff: {} complete\".format(f_cutoff_val))"
   ]
  },
  {
   "cell_type": "code",
   "execution_count": 17,
   "id": "d32939ed",
   "metadata": {},
   "outputs": [
    {
     "data": {
      "text/plain": [
       "<matplotlib.legend.Legend at 0x2821202b970>"
      ]
     },
     "execution_count": 17,
     "metadata": {},
     "output_type": "execute_result"
    },
    {
     "data": {
      "image/png": "[encoded data removed]",
      "text/plain": [
       "<Figure size 432x288 with 1 Axes>"
      ]
     },
     "metadata": {
      "needs_background": "light"
     },
     "output_type": "display_data"
    }
   ],
   "source": [
    "plt.plot(f_cutoff_vec,true_pos_det, 'ks', label='true_pos')\n",
    "plt.plot(f_cutoff_vec,true_neg_det, 'gx', label='true_neg')\n",
    "plt.ylabel(\"Per\")\n",
    "plt.xlabel(\"f\")\n",
    "#plt.axis([0, 3, 0.5, .8])\n",
    "plt.legend()"
   ]
  },
  {
   "cell_type": "markdown",
   "id": "8b683aa1",
   "metadata": {},
   "source": [
    "Here we see that in our validation data, when we set f=0.1 we disgnosed 100% of true positives and only got about 5% of false positives. This seems like an acceptable result, and so we will for our test data set f_cutoff = 0.1."
   ]
  },
  {
   "cell_type": "markdown",
   "id": "da76ae84",
   "metadata": {},
   "source": [
    "# Results"
   ]
  },
  {
   "cell_type": "markdown",
   "id": "6a37e719",
   "metadata": {},
   "source": [
    "Now we have picked our algorithm parameters on our validation daatset, it is time to move on to our test dataset. Lets apply our chosen parameters, alpha = 3, degree = 2, lambda_=0.3 and f_cutoff=0.1 and compare the cost of our training and test datasets."
   ]
  },
  {
   "cell_type": "code",
   "execution_count": 18,
   "id": "97c4c5ff",
   "metadata": {},
   "outputs": [
    {
     "name": "stdout",
     "output_type": "stream",
     "text": [
      "Train cost is 0.03998031461042022 and test cost is 0.031383588815121675\n"
     ]
    }
   ],
   "source": [
    "y_hat, dummy_W, dummy_b, train_cost, test_cost = mlr.logistic_regression(X_train, X_test, y_train, y_test, lambda_=0.1, degree=1, alpha=3, f_cutoff = 0.1, max_iter=3000, print_step=False)\n",
    "print(\"Train cost is {} and test cost is {}\".format(train_cost,test_cost))"
   ]
  },
  {
   "cell_type": "markdown",
   "id": "427f879d",
   "metadata": {},
   "source": [
    "The training cost and testing cost are not too far apart which means we do not have awful overfitting (but we still have some)! This is a good sign that our regularisation step worked."
   ]
  },
  {
   "cell_type": "code",
   "execution_count": 19,
   "id": "24d794ff",
   "metadata": {},
   "outputs": [
    {
     "name": "stdout",
     "output_type": "stream",
     "text": [
      "Custom algorithm correctly identified 95.50561797752809% of results.\n",
      "Custom algorithm predicted 100.0% of positive results.\n",
      "Custom algorithm predicted 87.87878787878788% of negative results.\n"
     ]
    }
   ],
   "source": [
    "print(\"Custom algorithm correctly identified {}% of results.\".format(100*sum(y_hat == y_test)/len(y_hat)))\n",
    "print(\"Custom algorithm predicted {}% of positive results.\".format(100*sum(y_hat[y_test==1] == y_test[y_test==1])/len(y_test[y_test==1])))\n",
    "print(\"Custom algorithm predicted {}% of negative results.\".format(100*sum(y_hat[y_test==0] == y_test[y_test==0])/len(y_test[y_test==0])))"
   ]
  },
  {
   "cell_type": "markdown",
   "id": "5b37f67a",
   "metadata": {},
   "source": [
    "# Conclusion"
   ]
  },
  {
   "cell_type": "markdown",
   "id": "68fcf8bf",
   "metadata": {},
   "source": [
    "Our model successfully diagnosed chronic kindey disease (CKD) with an accuracy of 95% diagnosing 100% of positive cases at the cost of 12% false positives. This result was obtained by utilising a tunable decision boundary that allowed us to positvely diagnose patients who were 10% or more likely to have CKD. This was chosen because initial diagnosis is a precursor to further investigation and treatment and should therefore, air on the side of caution."
   ]
  }
 ],
 "metadata": {
  "kernelspec": {
   "display_name": "Python 3 (ipykernel)",
   "language": "python",
   "name": "python3"
  },
  "language_info": {
   "codemirror_mode": {
    "name": "ipython",
    "version": 3
   },
   "file_extension": ".py",
   "mimetype": "text/x-python",
   "name": "python",
   "nbconvert_exporter": "python",
   "pygments_lexer": "ipython3",
   "version": "3.9.12"
  }
 },
 "nbformat": 4,
 "nbformat_minor": 5
}
